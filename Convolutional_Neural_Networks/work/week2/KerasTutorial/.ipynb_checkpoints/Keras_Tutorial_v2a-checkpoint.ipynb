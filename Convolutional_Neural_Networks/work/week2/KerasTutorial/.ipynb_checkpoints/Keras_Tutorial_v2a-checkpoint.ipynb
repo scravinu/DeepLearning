{
 "cells": [
  {
   "cell_type": "markdown",
   "metadata": {},
   "source": [
    "# Keras tutorial - Emotion Detection in Images of Faces\n",
    "\n",
    "Welcome to the first assignment of week 2. In this assignment, you will:\n",
    "1. Learn to use Keras, a high-level neural networks API (programming framework), written in Python and capable of running on top of several lower-level frameworks including TensorFlow and CNTK. \n",
    "2. See how you can in a couple of hours build a deep learning algorithm.\n",
    "\n",
    "#### Why are we using Keras? \n",
    "\n",
    "* Keras was developed to enable deep learning engineers to build and experiment with different models very quickly. \n",
    "* Just as TensorFlow is a higher-level framework than Python, Keras is an even higher-level framework and provides additional abstractions. \n",
    "* Being able to go from idea to result with the least possible delay is key to finding good models. \n",
    "* However, Keras is more restrictive than the lower-level frameworks, so there are some very complex models that you would still implement in TensorFlow rather than in Keras. \n",
    "* That being said, Keras will work fine for many common models. "
   ]
  },
  {
   "cell_type": "markdown",
   "metadata": {},
   "source": [
    "## <font color='darkblue'>Updates</font>\n",
    "\n",
    "#### If you were working on the notebook before this update...\n",
    "* The current notebook is version \"v2a\".\n",
    "* You can find your original work saved in the notebook with the previous version name (\"v2\").\n",
    "* To view the file directory, go to the menu \"File->Open\", and this will open a new tab that shows the file directory.\n",
    "\n",
    "#### List of updates\n",
    "* Changed back-story of model to \"emotion detection\" from \"happy house.\"\n",
    "* Cleaned/organized wording of instructions and commentary.\n",
    "* Added instructions on how to set `input_shape`\n",
    "* Added explanation of \"objects as functions\" syntax.\n",
    "* Clarified explanation of variable naming convention.\n",
    "* Added hints for steps 1,2,3,4"
   ]
  },
  {
   "cell_type": "markdown",
   "metadata": {},
   "source": [
    "## Load packages\n",
    "* In this exercise, you'll work on the \"Emotion detection\" model, which we'll explain below. \n",
    "* Let's load the required packages."
   ]
  },
  {
   "cell_type": "code",
   "execution_count": 1,
   "metadata": {},
   "outputs": [
    {
     "name": "stderr",
     "output_type": "stream",
     "text": [
      "Using TensorFlow backend.\n"
     ]
    }
   ],
   "source": [
    "import numpy as np\n",
    "from keras import layers\n",
    "from keras.layers import Input, Dense, Activation, ZeroPadding2D, BatchNormalization, Flatten, Conv2D\n",
    "from keras.layers import AveragePooling2D, MaxPooling2D, Dropout, GlobalMaxPooling2D, GlobalAveragePooling2D\n",
    "from keras.models import Model\n",
    "from keras.preprocessing import image\n",
    "from keras.utils import layer_utils\n",
    "from keras.utils.data_utils import get_file\n",
    "from keras.applications.imagenet_utils import preprocess_input\n",
    "import pydot\n",
    "from IPython.display import SVG\n",
    "from keras.utils.vis_utils import model_to_dot\n",
    "from keras.utils import plot_model\n",
    "from kt_utils import *\n",
    "\n",
    "import keras.backend as K\n",
    "K.set_image_data_format('channels_last')\n",
    "import matplotlib.pyplot as plt\n",
    "from matplotlib.pyplot import imshow\n",
    "\n",
    "%matplotlib inline"
   ]
  },
  {
   "cell_type": "markdown",
   "metadata": {},
   "source": [
    "**Note**: As you can see, we've imported a lot of functions from Keras. You can use them by calling them directly in your code. Ex: `X = Input(...)` or `X = ZeroPadding2D(...)`. \n",
    "\n",
    "In other words, unlike TensorFlow, you don't have to create the graph and then make a separate `sess.run()` call to evaluate those variables."
   ]
  },
  {
   "cell_type": "markdown",
   "metadata": {},
   "source": [
    "## 1 - Emotion Tracking\n",
    "\n",
    "* A nearby community health clinic is helping the local residents monitor their mental health.  \n",
    "* As part of their study, they are asking volunteers to record their emotions throughout the day.\n",
    "* To help the participants more easily track their emotions, you are asked to create an app that will classify their emotions based on some pictures that the volunteers will take of their facial expressions.\n",
    "* As a proof-of-concept, you first train your model to detect if someone's emotion is classified as \"happy\" or \"not happy.\"\n",
    "\n",
    "To build and train this model, you have gathered pictures of some volunteers in a nearby neighborhood. The dataset is labeled.\n",
    "<img src=\"images/face_images.png\" style=\"width:550px;height:250px;\">\n",
    "\n",
    "Run the following code to normalize the dataset and learn about its shapes."
   ]
  },
  {
   "cell_type": "code",
   "execution_count": 2,
   "metadata": {},
   "outputs": [
    {
     "name": "stdout",
     "output_type": "stream",
     "text": [
      "number of training examples = 600\n",
      "number of test examples = 150\n",
      "X_train shape: (600, 64, 64, 3)\n",
      "Y_train shape: (600, 1)\n",
      "X_test shape: (150, 64, 64, 3)\n",
      "Y_test shape: (150, 1)\n"
     ]
    }
   ],
   "source": [
    "X_train_orig, Y_train_orig, X_test_orig, Y_test_orig, classes = load_dataset()\n",
    "\n",
    "# Normalize image vectors\n",
    "X_train = X_train_orig/255.\n",
    "X_test = X_test_orig/255.\n",
    "\n",
    "# Reshape\n",
    "Y_train = Y_train_orig.T\n",
    "Y_test = Y_test_orig.T\n",
    "\n",
    "print (\"number of training examples = \" + str(X_train.shape[0]))\n",
    "print (\"number of test examples = \" + str(X_test.shape[0]))\n",
    "print (\"X_train shape: \" + str(X_train.shape))\n",
    "print (\"Y_train shape: \" + str(Y_train.shape))\n",
    "print (\"X_test shape: \" + str(X_test.shape))\n",
    "print (\"Y_test shape: \" + str(Y_test.shape))"
   ]
  },
  {
   "cell_type": "markdown",
   "metadata": {},
   "source": [
    "**Details of the \"Face\" dataset**:\n",
    "- Images are of shape (64,64,3)\n",
    "- Training: 600 pictures\n",
    "- Test: 150 pictures"
   ]
  },
  {
   "cell_type": "markdown",
   "metadata": {},
   "source": [
    "## 2 - Building a model in Keras\n",
    "\n",
    "Keras is very good for rapid prototyping. In just a short time you will be able to build a model that achieves outstanding results.\n",
    "\n",
    "Here is an example of a model in Keras:\n",
    "\n",
    "```python\n",
    "def model(input_shape):\n",
    "    \"\"\"\n",
    "    input_shape: The height, width and channels as a tuple.  \n",
    "        Note that this does not include the 'batch' as a dimension.\n",
    "        If you have a batch like 'X_train', \n",
    "        then you can provide the input_shape using\n",
    "        X_train.shape[1:]\n",
    "    \"\"\"\n",
    "    \n",
    "    # Define the input placeholder as a tensor with shape input_shape. Think of this as your input image!\n",
    "    X_input = Input(input_shape)\n",
    "\n",
    "    # Zero-Padding: pads the border of X_input with zeroes\n",
    "    X = ZeroPadding2D((3, 3))(X_input)\n",
    "\n",
    "    # CONV -> BN -> RELU Block applied to X\n",
    "    X = Conv2D(32, (7, 7), strides = (1, 1), name = 'conv0')(X)\n",
    "    X = BatchNormalization(axis = 3, name = 'bn0')(X)\n",
    "    X = Activation('relu')(X)\n",
    "\n",
    "    # MAXPOOL\n",
    "    X = MaxPooling2D((2, 2), name='max_pool')(X)\n",
    "\n",
    "    # FLATTEN X (means convert it to a vector) + FULLYCONNECTED\n",
    "    X = Flatten()(X)\n",
    "    X = Dense(1, activation='sigmoid', name='fc')(X)\n",
    "\n",
    "    # Create model. This creates your Keras model instance, you'll use this instance to train/test the model.\n",
    "    model = Model(inputs = X_input, outputs = X, name='HappyModel')\n",
    "    \n",
    "    return model\n",
    "```"
   ]
  },
  {
   "cell_type": "markdown",
   "metadata": {},
   "source": [
    "#### Variable naming convention\n",
    "\n",
    "* Note that Keras uses a different convention with variable names than we've previously used with numpy and TensorFlow. \n",
    "* Instead of creating unique variable names for each step and each layer, such as \n",
    "```\n",
    "X = ...\n",
    "Z1 = ...\n",
    "A1 = ...\n",
    "```\n",
    "* Keras re-uses and overwrites the same variable at each step:\n",
    "```\n",
    "X = ...\n",
    "X = ...\n",
    "X = ...\n",
    "```\n",
    "* The exception is `X_input`, which we kept separate since it's needed later."
   ]
  },
  {
   "cell_type": "markdown",
   "metadata": {},
   "source": [
    "#### Objects as functions\n",
    "* Notice how there are two pairs of parentheses in each statement.  For example:\n",
    "```\n",
    "X = ZeroPadding2D((3, 3))(X_input)\n",
    "```\n",
    "* The first is a constructor call which creates an object (ZeroPadding2D).\n",
    "* In Python, objects can be called as functions. Search for 'python object as function and you can read this blog post [Python Pandemonium](https://medium.com/python-pandemonium/function-as-objects-in-python-d5215e6d1b0d).  See the section titled \"Objects as functions.\"\n",
    "* The single line is equivalent to this:\n",
    "```\n",
    "ZP = ZeroPadding2D((3, 3)) # ZP is an object that can be called as a function\n",
    "X = ZP(X_input) \n",
    "```"
   ]
  },
  {
   "cell_type": "markdown",
   "metadata": {},
   "source": [
    "**Exercise**: Implement a `HappyModel()`.  \n",
    "* This assignment is more open-ended than most. \n",
    "* Start by implementing a model using the architecture we suggest, and run through the rest of this assignment using that as your initial model. * Later, come back and try out other model architectures. \n",
    "* For example, you might take inspiration from the model above, but then vary the network architecture and hyperparameters however you wish. \n",
    "* You can also use other functions such as `AveragePooling2D()`, `GlobalMaxPooling2D()`, `Dropout()`. \n",
    "\n",
    "**Note**: Be careful with your data's shapes. Use what you've learned in the videos to make sure your convolutional, pooling and fully-connected layers are adapted to the volumes you're applying it to."
   ]
  },
  {
   "cell_type": "code",
   "execution_count": 3,
   "metadata": {
    "collapsed": true
   },
   "outputs": [],
   "source": [
    "# GRADED FUNCTION: HappyModel\n",
    "\n",
    "def HappyModel(input_shape):\n",
    "    \"\"\"\n",
    "    Implementation of the HappyModel.\n",
    "    \n",
    "    Arguments:\n",
    "    input_shape -- shape of the images of the dataset\n",
    "        (height, width, channels) as a tuple.  \n",
    "        Note that this does not include the 'batch' as a dimension.\n",
    "        If you have a batch like 'X_train', \n",
    "        then you can provide the input_shape using\n",
    "        X_train.shape[1:]\n",
    "    \n",
    "\n",
    "    Returns:\n",
    "    model -- a Model() instance in Keras\n",
    "    \"\"\"\n",
    "    \n",
    "    ### START CODE HERE ###\n",
    "    # Feel free to use the suggested outline in the text above to get started, and run through the whole\n",
    "    # exercise (including the later portions of this notebook) once. The come back also try out other\n",
    "    # network architectures as well. \n",
    "    # Define the input placeholder as a tensor with shape input_shape. Think of this as your input image!\n",
    "    X_input = Input(input_shape)\n",
    "\n",
    "    # Zero-Padding: pads the border of X_input with zeroes\n",
    "    X = ZeroPadding2D((3, 3))(X_input)\n",
    "\n",
    "    # CONV -> BN -> RELU Block applied to X\n",
    "    X = Conv2D(32, (7, 7), strides = (1, 1), name = 'conv0')(X)\n",
    "    X = BatchNormalization(axis = 3, name = 'bn0')(X)\n",
    "    X = Activation('relu')(X)\n",
    "\n",
    "    # MAXPOOL\n",
    "    X = MaxPooling2D((2, 2), name='max_pool')(X)\n",
    "\n",
    "    # FLATTEN X (means convert it to a vector) + FULLYCONNECTED\n",
    "    X = Flatten()(X)\n",
    "    X = Dense(1, activation='sigmoid', name='fc')(X)\n",
    "\n",
    "    # Create model. This creates your Keras model instance, you'll use this instance to train/test the model.\n",
    "    model = Model(inputs = X_input, outputs = X, name='HappyModel')\n",
    "\n",
    "    \n",
    "    ### END CODE HERE ###\n",
    "    \n",
    "    return model"
   ]
  },
  {
   "cell_type": "markdown",
   "metadata": {},
   "source": [
    "You have now built a function to describe your model. To train and test this model, there are four steps in Keras:\n",
    "1. Create the model by calling the function above  \n",
    "\n",
    "2. Compile the model by calling `model.compile(optimizer = \"...\", loss = \"...\", metrics = [\"accuracy\"])`  \n",
    "\n",
    "3. Train the model on train data by calling `model.fit(x = ..., y = ..., epochs = ..., batch_size = ...)`  \n",
    "\n",
    "4. Test the model on test data by calling `model.evaluate(x = ..., y = ...)`  \n",
    "\n",
    "If you want to know more about `model.compile()`, `model.fit()`, `model.evaluate()` and their arguments, refer to the official [Keras documentation](https://keras.io/models/model/)."
   ]
  },
  {
   "cell_type": "markdown",
   "metadata": {},
   "source": [
    "#### Step 1: create the model.  \n",
    "**Hint**:  \n",
    "The `input_shape` parameter is a tuple (height, width, channels).  It excludes the batch number.  \n",
    "Try `X_train.shape[1:]` as the `input_shape`."
   ]
  },
  {
   "cell_type": "code",
   "execution_count": 4,
   "metadata": {
    "collapsed": true
   },
   "outputs": [],
   "source": [
    "### START CODE HERE ### (1 line)\n",
    "happyModel = HappyModel(X_train.shape[1:])\n",
    "### END CODE HERE ###"
   ]
  },
  {
   "cell_type": "markdown",
   "metadata": {},
   "source": [
    "#### Step 2: compile the model\n",
    "\n",
    "**Hint**:  \n",
    "Optimizers you can try include `'adam'`, `'sgd'` or others.  See the documentation for [optimizers](https://keras.io/optimizers/)  \n",
    "The \"happiness detection\" is a binary classification problem.  The loss function that you can use is `'binary_cross_entropy'`.  Note that `'categorical_cross_entropy'` won't work with your data set as its formatted, because the data is an array of 0 or 1 rather than two arrays (one for each category).  Documentation for [losses](https://keras.io/losses/)"
   ]
  },
  {
   "cell_type": "code",
   "execution_count": 6,
   "metadata": {
    "collapsed": true
   },
   "outputs": [],
   "source": [
    "### START CODE HERE ### (1 line)\n",
    "happyModel.compile(optimizer = \"adam\", loss = \"binary_crossentropy\", metrics = [\"accuracy\"] )\n",
    "### END CODE HERE ###"
   ]
  },
  {
   "cell_type": "markdown",
   "metadata": {},
   "source": [
    "#### Step 3: train the model\n",
    "\n",
    "**Hint**:  \n",
    "Use the `'X_train'`, `'Y_train'` variables.  Use integers for the epochs and batch_size\n",
    "\n",
    "**Note**: If you run `fit()` again, the `model` will continue to train with the parameters it has already learned instead of reinitializing them."
   ]
  },
  {
   "cell_type": "code",
   "execution_count": 9,
   "metadata": {},
   "outputs": [
    {
     "name": "stdout",
     "output_type": "stream",
     "text": [
      "Epoch 1/100\n",
      "600/600 [==============================] - 12s - loss: 0.0505 - acc: 0.9867    \n",
      "Epoch 2/100\n",
      "600/600 [==============================] - 12s - loss: 0.0472 - acc: 0.9900    \n",
      "Epoch 3/100\n",
      "600/600 [==============================] - 12s - loss: 0.0456 - acc: 0.9883    \n",
      "Epoch 4/100\n",
      "600/600 [==============================] - 12s - loss: 0.0407 - acc: 0.9883    \n",
      "Epoch 5/100\n",
      "600/600 [==============================] - 12s - loss: 0.0393 - acc: 0.9917    \n",
      "Epoch 6/100\n",
      "600/600 [==============================] - 12s - loss: 0.0450 - acc: 0.9883    \n",
      "Epoch 7/100\n",
      "600/600 [==============================] - 12s - loss: 0.0412 - acc: 0.9900    \n",
      "Epoch 8/100\n",
      "600/600 [==============================] - 12s - loss: 0.0345 - acc: 0.9933    \n",
      "Epoch 9/100\n",
      "600/600 [==============================] - 12s - loss: 0.0297 - acc: 0.9933    \n",
      "Epoch 10/100\n",
      "600/600 [==============================] - 12s - loss: 0.0286 - acc: 0.9917    \n",
      "Epoch 11/100\n",
      "600/600 [==============================] - 12s - loss: 0.0351 - acc: 0.9900    \n",
      "Epoch 12/100\n",
      "600/600 [==============================] - 12s - loss: 0.0323 - acc: 0.9950    \n",
      "Epoch 13/100\n",
      "600/600 [==============================] - 12s - loss: 0.0298 - acc: 0.9950    \n",
      "Epoch 14/100\n",
      "600/600 [==============================] - 13s - loss: 0.0261 - acc: 0.9933    \n",
      "Epoch 15/100\n",
      "600/600 [==============================] - 12s - loss: 0.0217 - acc: 0.9967    \n",
      "Epoch 16/100\n",
      "600/600 [==============================] - 12s - loss: 0.0225 - acc: 0.9933    \n",
      "Epoch 17/100\n",
      "600/600 [==============================] - 12s - loss: 0.0198 - acc: 0.9983    \n",
      "Epoch 18/100\n",
      "600/600 [==============================] - 12s - loss: 0.0221 - acc: 0.9933    \n",
      "Epoch 19/100\n",
      "600/600 [==============================] - 12s - loss: 0.0210 - acc: 0.9967    \n",
      "Epoch 20/100\n",
      "600/600 [==============================] - 12s - loss: 0.0168 - acc: 0.9983    \n",
      "Epoch 21/100\n",
      "600/600 [==============================] - 12s - loss: 0.0157 - acc: 1.0000    \n",
      "Epoch 22/100\n",
      "600/600 [==============================] - 12s - loss: 0.0155 - acc: 0.9983    \n",
      "Epoch 23/100\n",
      "600/600 [==============================] - 12s - loss: 0.0178 - acc: 0.9967    \n",
      "Epoch 24/100\n",
      "600/600 [==============================] - 12s - loss: 0.0152 - acc: 0.9983    \n",
      "Epoch 25/100\n",
      "600/600 [==============================] - 12s - loss: 0.0146 - acc: 0.9967    \n",
      "Epoch 26/100\n",
      "600/600 [==============================] - 12s - loss: 0.0124 - acc: 0.9967    \n",
      "Epoch 27/100\n",
      "600/600 [==============================] - 12s - loss: 0.0119 - acc: 0.9983    \n",
      "Epoch 28/100\n",
      "600/600 [==============================] - 12s - loss: 0.0119 - acc: 0.9967    \n",
      "Epoch 29/100\n",
      "600/600 [==============================] - 12s - loss: 0.0124 - acc: 0.9967    \n",
      "Epoch 30/100\n",
      "600/600 [==============================] - 12s - loss: 0.0122 - acc: 0.9983    \n",
      "Epoch 31/100\n",
      "600/600 [==============================] - 12s - loss: 0.0112 - acc: 0.9983    \n",
      "Epoch 32/100\n",
      "600/600 [==============================] - 12s - loss: 0.0102 - acc: 1.0000    \n",
      "Epoch 33/100\n",
      "600/600 [==============================] - 12s - loss: 0.0104 - acc: 0.9983    \n",
      "Epoch 34/100\n",
      "600/600 [==============================] - 13s - loss: 0.0102 - acc: 0.9983    \n",
      "Epoch 35/100\n",
      "600/600 [==============================] - 12s - loss: 0.0096 - acc: 1.0000    \n",
      "Epoch 36/100\n",
      "600/600 [==============================] - 12s - loss: 0.0086 - acc: 1.0000    \n",
      "Epoch 37/100\n",
      "600/600 [==============================] - 12s - loss: 0.0090 - acc: 0.9983    \n",
      "Epoch 38/100\n",
      "600/600 [==============================] - 12s - loss: 0.0080 - acc: 0.9983    \n",
      "Epoch 39/100\n",
      "600/600 [==============================] - 12s - loss: 0.0077 - acc: 1.0000    \n",
      "Epoch 40/100\n",
      "600/600 [==============================] - 12s - loss: 0.0119 - acc: 0.9950    \n",
      "Epoch 41/100\n",
      "600/600 [==============================] - 12s - loss: 0.0093 - acc: 1.0000    \n",
      "Epoch 42/100\n",
      "600/600 [==============================] - 12s - loss: 0.0118 - acc: 0.9967    \n",
      "Epoch 43/100\n",
      "600/600 [==============================] - 12s - loss: 0.0106 - acc: 0.9967    \n",
      "Epoch 44/100\n",
      "600/600 [==============================] - 12s - loss: 0.0080 - acc: 0.9983    \n",
      "Epoch 45/100\n",
      "600/600 [==============================] - 12s - loss: 0.0079 - acc: 0.9983    \n",
      "Epoch 46/100\n",
      "600/600 [==============================] - 12s - loss: 0.0102 - acc: 0.9967    \n",
      "Epoch 47/100\n",
      "600/600 [==============================] - 12s - loss: 0.0131 - acc: 0.9983    \n",
      "Epoch 48/100\n",
      "600/600 [==============================] - 12s - loss: 0.0153 - acc: 0.9950    \n",
      "Epoch 49/100\n",
      "600/600 [==============================] - 12s - loss: 0.0124 - acc: 0.9950    \n",
      "Epoch 50/100\n",
      "600/600 [==============================] - 12s - loss: 0.0096 - acc: 0.9983    \n",
      "Epoch 51/100\n",
      "600/600 [==============================] - 12s - loss: 0.0114 - acc: 0.9967    \n",
      "Epoch 52/100\n",
      "600/600 [==============================] - 13s - loss: 0.0058 - acc: 1.0000    \n",
      "Epoch 53/100\n",
      "600/600 [==============================] - 12s - loss: 0.0067 - acc: 1.0000    \n",
      "Epoch 54/100\n",
      "600/600 [==============================] - 12s - loss: 0.0055 - acc: 1.0000    \n",
      "Epoch 55/100\n",
      "600/600 [==============================] - 12s - loss: 0.0059 - acc: 1.0000    \n",
      "Epoch 56/100\n",
      "600/600 [==============================] - 12s - loss: 0.0067 - acc: 1.0000    \n",
      "Epoch 57/100\n",
      "600/600 [==============================] - 12s - loss: 0.0058 - acc: 1.0000    \n",
      "Epoch 58/100\n",
      "600/600 [==============================] - 12s - loss: 0.0053 - acc: 1.0000    \n",
      "Epoch 59/100\n",
      "600/600 [==============================] - 12s - loss: 0.0048 - acc: 1.0000    \n",
      "Epoch 60/100\n",
      "600/600 [==============================] - 12s - loss: 0.0042 - acc: 1.0000    \n",
      "Epoch 61/100\n",
      "600/600 [==============================] - 12s - loss: 0.0034 - acc: 1.0000    \n",
      "Epoch 62/100\n",
      "600/600 [==============================] - 12s - loss: 0.0038 - acc: 1.0000    \n",
      "Epoch 63/100\n",
      "600/600 [==============================] - 12s - loss: 0.0037 - acc: 1.0000    \n",
      "Epoch 64/100\n",
      "600/600 [==============================] - 12s - loss: 0.0038 - acc: 1.0000    \n",
      "Epoch 65/100\n",
      "600/600 [==============================] - 12s - loss: 0.0034 - acc: 1.0000    \n",
      "Epoch 66/100\n",
      "600/600 [==============================] - 12s - loss: 0.0032 - acc: 1.0000    \n",
      "Epoch 67/100\n",
      "600/600 [==============================] - 12s - loss: 0.0030 - acc: 1.0000    \n",
      "Epoch 68/100\n",
      "600/600 [==============================] - 13s - loss: 0.0030 - acc: 1.0000    \n",
      "Epoch 69/100\n",
      "600/600 [==============================] - 12s - loss: 0.0030 - acc: 1.0000    \n",
      "Epoch 70/100\n",
      "600/600 [==============================] - 12s - loss: 0.0029 - acc: 1.0000    \n",
      "Epoch 71/100\n",
      "600/600 [==============================] - 12s - loss: 0.0028 - acc: 1.0000    \n",
      "Epoch 72/100\n",
      "600/600 [==============================] - 12s - loss: 0.0024 - acc: 1.0000    \n",
      "Epoch 73/100\n",
      "600/600 [==============================] - 12s - loss: 0.0028 - acc: 1.0000    \n",
      "Epoch 74/100\n",
      "600/600 [==============================] - 12s - loss: 0.0027 - acc: 1.0000    \n",
      "Epoch 75/100\n",
      "600/600 [==============================] - 12s - loss: 0.0028 - acc: 1.0000    \n",
      "Epoch 76/100\n",
      "600/600 [==============================] - 12s - loss: 0.0024 - acc: 1.0000    \n",
      "Epoch 77/100\n",
      "600/600 [==============================] - 12s - loss: 0.0023 - acc: 1.0000    \n",
      "Epoch 78/100\n",
      "600/600 [==============================] - 12s - loss: 0.0026 - acc: 1.0000    \n",
      "Epoch 79/100\n",
      "600/600 [==============================] - 12s - loss: 0.0022 - acc: 1.0000    \n",
      "Epoch 80/100\n",
      "600/600 [==============================] - 12s - loss: 0.0023 - acc: 1.0000    \n",
      "Epoch 81/100\n",
      "600/600 [==============================] - 12s - loss: 0.0023 - acc: 1.0000    \n",
      "Epoch 82/100\n",
      "600/600 [==============================] - 12s - loss: 0.0022 - acc: 1.0000     \n",
      "Epoch 83/100\n",
      "600/600 [==============================] - 12s - loss: 0.0020 - acc: 1.0000    \n",
      "Epoch 84/100\n",
      "600/600 [==============================] - 12s - loss: 0.0020 - acc: 1.0000     \n",
      "Epoch 85/100\n",
      "600/600 [==============================] - 12s - loss: 0.0020 - acc: 1.0000    \n",
      "Epoch 86/100\n",
      "600/600 [==============================] - 12s - loss: 0.0020 - acc: 1.0000    \n",
      "Epoch 87/100\n",
      "600/600 [==============================] - 12s - loss: 0.0021 - acc: 1.0000    \n",
      "Epoch 88/100\n",
      "600/600 [==============================] - 12s - loss: 0.0024 - acc: 1.0000    \n",
      "Epoch 89/100\n",
      "600/600 [==============================] - 12s - loss: 0.0033 - acc: 1.0000    \n",
      "Epoch 90/100\n",
      "600/600 [==============================] - 12s - loss: 0.0044 - acc: 0.9983    \n",
      "Epoch 91/100\n",
      "600/600 [==============================] - 12s - loss: 0.0029 - acc: 1.0000    \n",
      "Epoch 92/100\n",
      "600/600 [==============================] - 12s - loss: 0.0021 - acc: 1.0000     \n",
      "Epoch 93/100\n",
      "600/600 [==============================] - 12s - loss: 0.0023 - acc: 1.0000    \n",
      "Epoch 94/100\n",
      "600/600 [==============================] - 12s - loss: 0.0021 - acc: 1.0000    \n",
      "Epoch 95/100\n",
      "600/600 [==============================] - 12s - loss: 0.0022 - acc: 1.0000    \n",
      "Epoch 96/100\n",
      "600/600 [==============================] - 12s - loss: 0.0015 - acc: 1.0000    \n",
      "Epoch 97/100\n",
      "600/600 [==============================] - 12s - loss: 0.0017 - acc: 1.0000    \n",
      "Epoch 98/100\n",
      "600/600 [==============================] - 12s - loss: 0.0018 - acc: 1.0000    \n",
      "Epoch 99/100\n",
      "600/600 [==============================] - 12s - loss: 0.0018 - acc: 1.0000     \n",
      "Epoch 100/100\n",
      "600/600 [==============================] - 12s - loss: 0.0021 - acc: 1.0000    \n"
     ]
    },
    {
     "data": {
      "text/plain": [
       "<keras.callbacks.History at 0x7fb48cd55a90>"
      ]
     },
     "execution_count": 9,
     "metadata": {},
     "output_type": "execute_result"
    }
   ],
   "source": [
    "### START CODE HERE ### (1 line)\n",
    "happyModel.fit(x = X_train, y = Y_train, epochs = 100, batch_size = 100)\n",
    "### END CODE HERE ###"
   ]
  },
  {
   "cell_type": "markdown",
   "metadata": {},
   "source": [
    "#### Step 4: evaluate model  \n",
    "**Hint**:  \n",
    "Use the `'X_test'` and `'Y_test'` variables to evaluate the model's performance."
   ]
  },
  {
   "cell_type": "code",
   "execution_count": 11,
   "metadata": {
    "scrolled": true
   },
   "outputs": [
    {
     "name": "stdout",
     "output_type": "stream",
     "text": [
      "150/150 [==============================] - 1s     \n",
      "\n",
      "Loss = 0.0575798984369\n",
      "Test Accuracy = 0.973333337307\n"
     ]
    }
   ],
   "source": [
    "### START CODE HERE ### (1 line)\n",
    "preds = happyModel.evaluate(x = X_test, y = Y_test)\n",
    "### END CODE HERE ###\n",
    "print()\n",
    "print (\"Loss = \" + str(preds[0]))\n",
    "print (\"Test Accuracy = \" + str(preds[1]))"
   ]
  },
  {
   "cell_type": "markdown",
   "metadata": {},
   "source": [
    "#### Expected performance   \n",
    "If your `happyModel()` function worked, its accuracy should be better than random guessing (50% accuracy).\n",
    "\n",
    "To give you a point of comparison, our model gets around **95% test accuracy in 40 epochs** (and 99% train accuracy) with a mini batch size of 16 and \"adam\" optimizer."
   ]
  },
  {
   "cell_type": "markdown",
   "metadata": {},
   "source": [
    "#### Tips for improving your model\n",
    "\n",
    "If you have not yet achieved a very good accuracy (>= 80%), here are some things tips:\n",
    "\n",
    "- Use blocks of CONV->BATCHNORM->RELU such as:\n",
    "```python\n",
    "X = Conv2D(32, (3, 3), strides = (1, 1), name = 'conv0')(X)\n",
    "X = BatchNormalization(axis = 3, name = 'bn0')(X)\n",
    "X = Activation('relu')(X)\n",
    "```\n",
    "until your height and width dimensions are quite low and your number of channels quite large (≈32 for example).  \n",
    "You can then flatten the volume and use a fully-connected layer.\n",
    "- Use MAXPOOL after such blocks.  It will help you lower the dimension in height and width.\n",
    "- Change your optimizer. We find 'adam' works well. \n",
    "- If you get memory issues, lower your batch_size (e.g. 12 )\n",
    "- Run more epochs until you see the train accuracy no longer improves. \n",
    "\n",
    "**Note**: If you perform hyperparameter tuning on your model, the test set actually becomes a dev set, and your model might end up overfitting to the test (dev) set. Normally, you'll want separate dev and test sets.  The dev set is used for parameter tuning, and the test set is used once to estimate the model's performance in production."
   ]
  },
  {
   "cell_type": "markdown",
   "metadata": {},
   "source": [
    "## 3 - Conclusion\n",
    "\n",
    "Congratulations, you have created a proof of concept for \"happiness detection\"!"
   ]
  },
  {
   "cell_type": "markdown",
   "metadata": {},
   "source": [
    "## Key Points to remember\n",
    "- Keras is a tool we recommend for rapid prototyping. It allows you to quickly try out different model architectures.\n",
    "- Remember The four steps in Keras: \n",
    "\n",
    "\n",
    "1. Create  \n",
    "2. Compile  \n",
    "3. Fit/Train  \n",
    "4. Evaluate/Test  "
   ]
  },
  {
   "cell_type": "markdown",
   "metadata": {},
   "source": [
    "## 4 - Test with your own image (Optional)\n",
    "\n",
    "Congratulations on finishing this assignment. You can now take a picture of your face and see if it can classify whether your expression is \"happy\" or \"not happy\". To do that:\n",
    "\n",
    "\n",
    "1. Click on \"File\" in the upper bar of this notebook, then click \"Open\" to go on your Coursera Hub.\n",
    "2. Add your image to this Jupyter Notebook's directory, in the \"images\" folder\n",
    "3. Write your image's name in the following code\n",
    "4. Run the code and check if the algorithm is right (0 is not happy, 1 is happy)!\n",
    "    \n",
    "The training/test sets were quite similar; for example, all the pictures were taken against the same background (since a front door camera is always mounted in the same position). This makes the problem easier, but a model trained on this data may or may not work on your own data. But feel free to give it a try! "
   ]
  },
  {
   "cell_type": "code",
   "execution_count": 13,
   "metadata": {},
   "outputs": [
    {
     "name": "stdout",
     "output_type": "stream",
     "text": [
      "[[ 1.]]\n"
     ]
    },
    {
     "data": {
      "image/png": "[encoded data removed]",
      "text/plain": [
       "<matplotlib.figure.Figure at 0x7fb48c596518>"
      ]
     },
     "metadata": {},
     "output_type": "display_data"
    }
   ],
   "source": [
    "### START CODE HERE ###\n",
    "img_path = 'images/my_image.jpg'\n",
    "### END CODE HERE ###\n",
    "img = image.load_img(img_path, target_size=(64, 64))\n",
    "imshow(img)\n",
    "\n",
    "x = image.img_to_array(img)\n",
    "x = np.expand_dims(x, axis=0)\n",
    "x = preprocess_input(x)\n",
    "\n",
    "print(happyModel.predict(x))"
   ]
  },
  {
   "cell_type": "markdown",
   "metadata": {},
   "source": [
    "## 5 - Other useful functions in Keras (Optional)\n",
    "\n",
    "Two other basic features of Keras that you'll find useful are:\n",
    "- `model.summary()`: prints the details of your layers in a table with the sizes of its inputs/outputs\n",
    "- `plot_model()`: plots your graph in a nice layout. You can even save it as \".png\" using SVG() if you'd like to share it on social media ;). It is saved in \"File\" then \"Open...\" in the upper bar of the notebook.\n",
    "\n",
    "Run the following code."
   ]
  },
  {
   "cell_type": "code",
   "execution_count": null,
   "metadata": {
    "collapsed": true,
    "scrolled": false
   },
   "outputs": [],
   "source": [
    "happyModel.summary()"
   ]
  },
  {
   "cell_type": "code",
   "execution_count": null,
   "metadata": {
    "collapsed": true
   },
   "outputs": [],
   "source": [
    "plot_model(happyModel, to_file='HappyModel.png')\n",
    "SVG(model_to_dot(happyModel).create(prog='dot', format='svg'))"
   ]
  }
 ],
 "metadata": {
  "kernelspec": {
   "display_name": "Python 3",
   "language": "python",
   "name": "python3"
  },
  "language_info": {
   "codemirror_mode": {
    "name": "ipython",
    "version": 3
   },
   "file_extension": ".py",
   "mimetype": "text/x-python",
   "name": "python",
   "nbconvert_exporter": "python",
   "pygments_lexer": "ipython3",
   "version": "3.6.0"
  }
 },
 "nbformat": 4,
 "nbformat_minor": 2
}
